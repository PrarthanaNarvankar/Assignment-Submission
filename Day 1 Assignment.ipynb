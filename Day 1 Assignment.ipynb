{
 "cells": [
  {
   "cell_type": "markdown",
   "metadata": {},
   "source": [
    "#Question 1:\n",
    "Given the following jumbled word, OBANWRI guess the correct English word.\n",
    "A)RANIBOW\n",
    "B)RAINBOW\n",
    "C)BOWRANI\n",
    "D)ROBWANI\n"
   ]
  },
  {
   "cell_type": "raw",
   "metadata": {},
   "source": [
    "Ans:B)RAINBOW"
   ]
  },
  {
   "cell_type": "markdown",
   "metadata": {},
   "source": [
    "#Question 2: Write a program which prints \"LETS UPGRADE\". "
   ]
  },
  {
   "cell_type": "code",
   "execution_count": 1,
   "metadata": {},
   "outputs": [
    {
     "name": "stdout",
     "output_type": "stream",
     "text": [
      "LETS UPGRADE\n"
     ]
    }
   ],
   "source": [
    "print(\"LETS UPGRADE\")"
   ]
  },
  {
   "cell_type": "markdown",
   "metadata": {},
   "source": [
    "#Question 3: Write a program that takes cost price and selling price as input and display whether the transaction is a \n",
    "             Profit or a Loss or Neither.\n",
    "             INPUT FORMAT\n",
    "           The first line contains the cost price\n",
    "           The second line contains the selling price"
   ]
  },
  {
   "cell_type": "markdown",
   "metadata": {},
   "source": [
    "#Test Case 1"
   ]
  },
  {
   "cell_type": "code",
   "execution_count": 1,
   "metadata": {},
   "outputs": [
    {
     "name": "stdout",
     "output_type": "stream",
     "text": [
      "cost price20\n",
      "selling price30\n",
      "Profit\n"
     ]
    }
   ],
   "source": [
    "cost_price=input(\"cost price\")\n",
    "selling_price=input(\"selling price\")\n",
    "if(cost_price>selling_price):\n",
    "    print(\"Loss\")\n",
    "elif(selling_price>cost_price):\n",
    "    print(\"Profit\")\n",
    "else:\n",
    "    print(\"Neither\")"
   ]
  },
  {
   "cell_type": "markdown",
   "metadata": {},
   "source": [
    "#Test Case 2"
   ]
  },
  {
   "cell_type": "code",
   "execution_count": 2,
   "metadata": {},
   "outputs": [
    {
     "name": "stdout",
     "output_type": "stream",
     "text": [
      "cost price20\n",
      "selling price10\n",
      "Loss\n"
     ]
    }
   ],
   "source": [
    "cost_price=input(\"cost price\")\n",
    "selling_price=input(\"selling price\")\n",
    "if(cost_price>selling_price):\n",
    "    print(\"Loss\")\n",
    "elif(selling_price>cost_price):\n",
    "    print(\"Profit\")\n",
    "else:\n",
    "    print(\"Neither\")"
   ]
  },
  {
   "cell_type": "markdown",
   "metadata": {},
   "source": [
    "#Test Case 3"
   ]
  },
  {
   "cell_type": "code",
   "execution_count": 3,
   "metadata": {},
   "outputs": [
    {
     "name": "stdout",
     "output_type": "stream",
     "text": [
      "cost price20\n",
      "selling price20\n",
      "Neither\n"
     ]
    }
   ],
   "source": [
    "cost_price=input(\"cost price\")\n",
    "selling_price=input(\"selling price\")\n",
    "if(cost_price>selling_price):\n",
    "    print(\"Loss\")\n",
    "elif(selling_price>cost_price):\n",
    "    print(\"Profit\")\n",
    "else:\n",
    "    print(\"Neither\")"
   ]
  },
  {
   "cell_type": "markdown",
   "metadata": {},
   "source": [
    "#Test Case 4"
   ]
  },
  {
   "cell_type": "code",
   "execution_count": 4,
   "metadata": {},
   "outputs": [
    {
     "name": "stdout",
     "output_type": "stream",
     "text": [
      "cost price19\n",
      "selling price19\n",
      "Neither\n"
     ]
    }
   ],
   "source": [
    "cost_price=input(\"cost price\")\n",
    "selling_price=input(\"selling price\")\n",
    "if(cost_price>selling_price):\n",
    "    print(\"Loss\")\n",
    "elif(selling_price>cost_price):\n",
    "    print(\"Profit\")\n",
    "else:\n",
    "    print(\"Neither\")"
   ]
  },
  {
   "cell_type": "markdown",
   "metadata": {},
   "source": [
    "#Test Case 5"
   ]
  },
  {
   "cell_type": "code",
   "execution_count": 7,
   "metadata": {},
   "outputs": [
    {
     "name": "stdout",
     "output_type": "stream",
     "text": [
      "cost price23\n",
      "selling price07\n",
      "Loss\n"
     ]
    }
   ],
   "source": [
    "cost_price=input(\"cost price\")\n",
    "selling_price=input(\"selling price\")\n",
    "if(cost_price>selling_price):\n",
    "    print(\"Loss\")\n",
    "elif(selling_price>cost_price):\n",
    "    print(\"Profit\")\n",
    "else:\n",
    "    print(\"Neither\")"
   ]
  },
  {
   "cell_type": "markdown",
   "metadata": {},
   "source": [
    "#Test Case 6"
   ]
  },
  {
   "cell_type": "code",
   "execution_count": 8,
   "metadata": {},
   "outputs": [
    {
     "name": "stdout",
     "output_type": "stream",
     "text": [
      "cost price19\n",
      "selling price95\n",
      "Profit\n"
     ]
    }
   ],
   "source": [
    "cost_price=input(\"cost price\")\n",
    "selling_price=input(\"selling price\")\n",
    "if(cost_price>selling_price):\n",
    "    print(\"Loss\")\n",
    "elif(selling_price>cost_price):\n",
    "    print(\"Profit\")\n",
    "else:\n",
    "    print(\"Neither\")"
   ]
  },
  {
   "cell_type": "markdown",
   "metadata": {},
   "source": [
    "#Question 4:Write a program that takes an amount in Euros as input.You need to find its equivalent in Rupees and display it.\n",
    "            Assume 1 Euro equals Rs.80.\n",
    "            Please note that you are expected to stick to the given input and output format as in the sample test cases.\n",
    "            Please don't add any extra lines such as'Enter a number',etc.\n",
    "            Your program should take only one number as input and display output."
   ]
  },
  {
   "cell_type": "markdown",
   "metadata": {},
   "source": [
    "#Test Case 1"
   ]
  },
  {
   "cell_type": "code",
   "execution_count": 11,
   "metadata": {},
   "outputs": [
    {
     "name": "stdout",
     "output_type": "stream",
     "text": [
      "20\n",
      "1600"
     ]
    }
   ],
   "source": [
    "Rs=int(input(\"\"))\n",
    "print(80*Rs,end=\"\")"
   ]
  },
  {
   "cell_type": "markdown",
   "metadata": {},
   "source": [
    "#Test Case 2"
   ]
  },
  {
   "cell_type": "code",
   "execution_count": 12,
   "metadata": {},
   "outputs": [
    {
     "name": "stdout",
     "output_type": "stream",
     "text": [
      "50\n",
      "4000"
     ]
    }
   ],
   "source": [
    "Rs=int(input(\"\"))\n",
    "print(80*Rs,end=\"\")"
   ]
  },
  {
   "cell_type": "markdown",
   "metadata": {},
   "source": [
    "#Test Case 3"
   ]
  },
  {
   "cell_type": "code",
   "execution_count": 13,
   "metadata": {},
   "outputs": [
    {
     "name": "stdout",
     "output_type": "stream",
     "text": [
      "72\n",
      "5760"
     ]
    }
   ],
   "source": [
    "Rs=int(input(\"\"))\n",
    "print(80*Rs,end=\"\")"
   ]
  },
  {
   "cell_type": "markdown",
   "metadata": {},
   "source": [
    "#Test Case 4"
   ]
  },
  {
   "cell_type": "code",
   "execution_count": 14,
   "metadata": {},
   "outputs": [
    {
     "name": "stdout",
     "output_type": "stream",
     "text": [
      "7\n",
      "560"
     ]
    }
   ],
   "source": [
    "Rs=int(input(\"\"))\n",
    "print(80*Rs,end=\"\")"
   ]
  },
  {
   "cell_type": "markdown",
   "metadata": {},
   "source": [
    "#Test Case 5"
   ]
  },
  {
   "cell_type": "code",
   "execution_count": 15,
   "metadata": {},
   "outputs": [
    {
     "name": "stdout",
     "output_type": "stream",
     "text": [
      "35\n",
      "2800"
     ]
    }
   ],
   "source": [
    "Rs=int(input(\"\"))\n",
    "print(80*Rs,end=\"\")"
   ]
  },
  {
   "cell_type": "markdown",
   "metadata": {},
   "source": [
    "#Test Case 6"
   ]
  },
  {
   "cell_type": "code",
   "execution_count": 16,
   "metadata": {},
   "outputs": [
    {
     "name": "stdout",
     "output_type": "stream",
     "text": [
      "23\n",
      "1840"
     ]
    }
   ],
   "source": [
    "Rs=int(input(\"\"))\n",
    "print(80*Rs,end=\"\")"
   ]
  },
  {
   "cell_type": "markdown",
   "metadata": {},
   "source": [
    "#Test Case 7"
   ]
  },
  {
   "cell_type": "code",
   "execution_count": 17,
   "metadata": {},
   "outputs": [
    {
     "name": "stdout",
     "output_type": "stream",
     "text": [
      "95\n",
      "7600"
     ]
    }
   ],
   "source": [
    "Rs=int(input(\"\"))\n",
    "print(80*Rs,end=\"\")"
   ]
  },
  {
   "cell_type": "markdown",
   "metadata": {},
   "source": [
    "#Test Case 8"
   ]
  },
  {
   "cell_type": "code",
   "execution_count": 18,
   "metadata": {},
   "outputs": [
    {
     "name": "stdout",
     "output_type": "stream",
     "text": [
      "18\n",
      "1440"
     ]
    }
   ],
   "source": [
    "Rs=int(input(\"\"))\n",
    "print(80*Rs,end=\"\")"
   ]
  },
  {
   "cell_type": "code",
   "execution_count": null,
   "metadata": {},
   "outputs": [],
   "source": []
  }
 ],
 "metadata": {
  "kernelspec": {
   "display_name": "Python 3",
   "language": "python",
   "name": "python3"
  },
  "language_info": {
   "codemirror_mode": {
    "name": "ipython",
    "version": 3
   },
   "file_extension": ".py",
   "mimetype": "text/x-python",
   "name": "python",
   "nbconvert_exporter": "python",
   "pygments_lexer": "ipython3",
   "version": "3.8.3"
  }
 },
 "nbformat": 4,
 "nbformat_minor": 4
}
